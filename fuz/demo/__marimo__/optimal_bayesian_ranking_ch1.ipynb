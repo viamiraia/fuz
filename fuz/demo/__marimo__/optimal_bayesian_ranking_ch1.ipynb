{
 "cells": [
  {
   "cell_type": "markdown",
   "id": "Hbol",
   "metadata": {},
   "source": [
    "# optimal bayesian ranking\n",
    "<h3 align='center'>chapter 1: bernoulli to beta</h3>\n",
    "<p align='center'>by miraia s. chiou © 2024</p>\n",
    "\n",
    "## introduction\n",
    "\n",
    "**fuz** can be used to improve on basic bayesian ranking by taking into account the shape of distributions rather than just the means. the optimal method is to use mode-parameterized beta or dirichlet distributions, but using a prior obtained by multiplicative pooling (aka upco) also improves upon traditional [bayesian averaging/ranking](https://en.wikipedia.org/wiki/Bayesian_average)"
   ]
  },
  {
   "cell_type": "markdown",
   "id": "MJUe",
   "metadata": {},
   "source": [
    "## the bernoulli distribution\n",
    "\n",
    "to understand how my optimal bayesian ranking algorithm works, start with the bernoulli distribution. this can be thought of as coin flips, upvotes and downvotes, yes/no ratings, or anything representable as binary. as an example the video game service _steam_ uses yes/no (thumbs up or thumbs down). in this case, a game with 6 thumbs up and 2 thumbs down has a bernoulli score distribution with $p=0.75$."
   ]
  },
  {
   "cell_type": "code",
   "execution_count": null,
   "id": "vblA",
   "metadata": {},
   "outputs": [],
   "source": [
    "from scipy.stats import bernoulli"
   ]
  },
  {
   "cell_type": "code",
   "execution_count": null,
   "id": "bkHC",
   "metadata": {},
   "outputs": [
    {
     "data": {
      "text/html": [
       "<marimo-callout-output data-html='&quot;&lt;marimo-ui-element object-id=&#x27;bkHC-0&#x27; random-id=&#x27;bdd640fb-0667-1ad1-1c80-317fa3b1799d&#x27;&gt;&lt;marimo-slider data-initial-value=&#x27;0.75&#x27; data-label=&#x27;&amp;quot;&amp;lt;span class=&amp;#92;&amp;quot;markdown prose dark:prose-invert&amp;#92;&amp;quot;&amp;gt;&amp;lt;span class=&amp;#92;&amp;quot;paragraph&amp;#92;&amp;quot;&amp;gt;choose a score&amp;lt;/span&amp;gt;&amp;lt;/span&amp;gt;&amp;quot;&#x27; data-start=&#x27;0&#x27; data-stop=&#x27;1&#x27; data-step=&#x27;0.01&#x27; data-steps=&#x27;[]&#x27; data-debounce=&#x27;false&#x27; data-orientation=&#x27;&amp;quot;horizontal&amp;quot;&#x27; data-show-value=&#x27;true&#x27; data-full-width=&#x27;true&#x27;&gt;&lt;/marimo-slider&gt;&lt;/marimo-ui-element&gt;&quot;' data-kind='&quot;success&quot;'></marimo-callout-output>"
      ]
     },
     "metadata": {},
     "output_type": "display_data"
    }
   ],
   "source": [
    "wintro_score = mo.ui.slider(\n",
    "    0, 1, 0.01, value=0.75, show_value=True, label='choose a score', full_width=True\n",
    ")\n",
    "mo.callout(wintro_score, kind='success')"
   ]
  },
  {
   "cell_type": "code",
   "execution_count": null,
   "id": "lEQa",
   "metadata": {},
   "outputs": [
    {
     "data": {
      "text/html": [
       "<marimo-ui-element object-id='lEQa-0' random-id='47378190-96da-1dac-72ff-5d2a386ecbe0'><marimo-vega data-initial-value='{}' data-label='null' data-spec='{&quot;config&quot;: {&quot;view&quot;: {&quot;continuousWidth&quot;: 300, &quot;continuousHeight&quot;: 300}, &quot;mark&quot;: {&quot;color&quot;: &quot;darkgreen&quot;}}, &quot;layer&quot;: [{&quot;mark&quot;: {&quot;type&quot;: &quot;bar&quot;}, &quot;encoding&quot;: {&quot;x&quot;: {&quot;axis&quot;: {&quot;labelAngle&quot;: 0}, &quot;field&quot;: &quot;x&quot;, &quot;type&quot;: &quot;nominal&quot;}, &quot;y&quot;: {&quot;field&quot;: &quot;probability&quot;, &quot;scale&quot;: {&quot;domain&quot;: [0, 1]}, &quot;type&quot;: &quot;quantitative&quot;}}, &quot;title&quot;: &quot;bernoulli probability mass function (pmf)&quot;}, {&quot;mark&quot;: {&quot;type&quot;: &quot;text&quot;, &quot;dy&quot;: -10}, &quot;encoding&quot;: {&quot;text&quot;: {&quot;field&quot;: &quot;probability&quot;, &quot;format&quot;: &quot;.2f&quot;, &quot;type&quot;: &quot;quantitative&quot;}, &quot;x&quot;: {&quot;axis&quot;: {&quot;labelAngle&quot;: 0}, &quot;field&quot;: &quot;x&quot;, &quot;type&quot;: &quot;nominal&quot;}, &quot;y&quot;: {&quot;field&quot;: &quot;probability&quot;, &quot;scale&quot;: {&quot;domain&quot;: [0, 1]}, &quot;type&quot;: &quot;quantitative&quot;}}, &quot;title&quot;: &quot;bernoulli probability mass function (pmf)&quot;}], &quot;data&quot;: {&quot;url&quot;: &quot;./@file/57-80187-mpDQOeul.csv&quot;, &quot;format&quot;: {&quot;type&quot;: &quot;csv&quot;}}, &quot;width&quot;: 400, &quot;&#36;schema&quot;: &quot;https://vega.github.io/schema/vega-lite/v5.20.1.json&quot;}' data-chart-selection='true' data-field-selection='true'></marimo-vega></marimo-ui-element>"
      ]
     },
     "metadata": {},
     "output_type": "display_data"
    }
   ],
   "source": [
    "intronoulli = bernoulli(wintro_score.value)\n",
    "intronoulli_p = [intronoulli.pmf(0), intronoulli.pmf(1)]\n",
    "_chart = plot_bernoulli(intronoulli_p).properties(width=400).configure_mark(color='darkgreen')\n",
    "mo.ui.altair_chart(_chart)"
   ]
  },
  {
   "cell_type": "markdown",
   "id": "PKri",
   "metadata": {},
   "source": [
    "this distribution represents the sample mean. however, we have some additional information we want to represent - the number of ratings (count). we can do this with the binomial distribution."
   ]
  },
  {
   "cell_type": "markdown",
   "id": "Xref",
   "metadata": {},
   "source": [
    "## bernoulli to binomial"
   ]
  },
  {
   "cell_type": "code",
   "execution_count": null,
   "id": "SFPL",
   "metadata": {},
   "outputs": [],
   "source": [
    "from scipy.stats import binom"
   ]
  },
  {
   "cell_type": "code",
   "execution_count": null,
   "id": "BYtC",
   "metadata": {},
   "outputs": [
    {
     "data": {
      "text/html": [
       "<marimo-callout-output data-html='&quot;&lt;div style=&#x27;display: flex;flex: 1;flex-direction: row;justify-content: space-between;align-items: center;flex-wrap: nowrap;gap: 0.5rem&#x27;&gt;&lt;div style=&#x27;flex: 1&#x27;&gt;&lt;marimo-ui-element object-id=&#x27;BYtC-0&#x27; random-id=&#x27;23b8c1e9-3924-56de-3eb1-3b9046685257&#x27;&gt;&lt;marimo-slider data-initial-value=&#x27;2&#x27; data-label=&#x27;&amp;quot;&amp;lt;span class=&amp;#92;&amp;quot;markdown prose dark:prose-invert&amp;#92;&amp;quot;&amp;gt;&amp;lt;span class=&amp;#92;&amp;quot;paragraph&amp;#92;&amp;quot;&amp;gt;# of no/tails/downvotes&amp;lt;/span&amp;gt;&amp;lt;/span&amp;gt;&amp;quot;&#x27; data-start=&#x27;0&#x27; data-stop=&#x27;10&#x27; data-steps=&#x27;[]&#x27; data-debounce=&#x27;false&#x27; data-orientation=&#x27;&amp;quot;horizontal&amp;quot;&#x27; data-show-value=&#x27;true&#x27; data-full-width=&#x27;true&#x27;&gt;&lt;/marimo-slider&gt;&lt;/marimo-ui-element&gt;&lt;/div&gt;&lt;div style=&#x27;flex: 1&#x27;&gt;&lt;marimo-ui-element object-id=&#x27;BYtC-1&#x27; random-id=&#x27;bd9c66b3-ad3c-2d6d-1a3d-1fa7bc8960a9&#x27;&gt;&lt;marimo-slider data-initial-value=&#x27;6&#x27; data-label=&#x27;&amp;quot;&amp;lt;span class=&amp;#92;&amp;quot;markdown prose dark:prose-invert&amp;#92;&amp;quot;&amp;gt;&amp;lt;span class=&amp;#92;&amp;quot;paragraph&amp;#92;&amp;quot;&amp;gt;# of yes/heads/upvotes&amp;lt;/span&amp;gt;&amp;lt;/span&amp;gt;&amp;quot;&#x27; data-start=&#x27;0&#x27; data-stop=&#x27;10&#x27; data-steps=&#x27;[]&#x27; data-debounce=&#x27;false&#x27; data-orientation=&#x27;&amp;quot;horizontal&amp;quot;&#x27; data-show-value=&#x27;true&#x27; data-full-width=&#x27;true&#x27;&gt;&lt;/marimo-slider&gt;&lt;/marimo-ui-element&gt;&lt;/div&gt;&lt;/div&gt;&quot;' data-kind='&quot;info&quot;'></marimo-callout-output>"
      ]
     },
     "metadata": {},
     "output_type": "display_data"
    }
   ],
   "source": [
    "wintro_no = mo.ui.slider(\n",
    "    0, 10, value=2, show_value=True, label='\\# of no/tails/downvotes', full_width=True\n",
    ")\n",
    "wintro_yes = mo.ui.slider(\n",
    "    0, 10, value=6, show_value=True, label='\\# of yes/heads/upvotes', full_width=True\n",
    ")\n",
    "mo.callout(mo.hstack([wintro_no, wintro_yes], widths='equal', align='center'), kind='info')"
   ]
  },
  {
   "cell_type": "code",
   "execution_count": null,
   "id": "RGSE",
   "metadata": {},
   "outputs": [
    {
     "data": {
      "text/html": [
       "<span class=\"markdown prose dark:prose-invert\"><span class=\"paragraph\">here i introduce <code>fuz.log.lnorm</code> which can stably normalize weights in logarithmic space (log -&gt; log), handling <code>nan</code>s and complex numbers. a little excessive for our example here, but works well with very small probabilities. if you want to move out of log space, a convenience function, <code>norm</code>, does log conversion and exponentiation for you.</span>\n",
       "<div class=\"codehilite\"><pre><span></span><code><span class=\"kn\">import</span> <span class=\"nn\">fuz.log</span> <span class=\"k\">as</span> <span class=\"nn\">flog</span>\n",
       "<span class=\"kn\">import</span> <span class=\"nn\">numpy</span> <span class=\"k\">as</span> <span class=\"nn\">np</span>\n",
       "\n",
       "<span class=\"n\">flog</span><span class=\"o\">.</span><span class=\"n\">norm</span><span class=\"p\">([</span><span class=\"mi\">2</span> <span class=\"mi\">6</span><span class=\"p\">])</span> <span class=\"c1\"># [0.25 0.75]</span>\n",
       "<span class=\"c1\"># this is equivalent to:</span>\n",
       "<span class=\"n\">np</span><span class=\"o\">.</span><span class=\"n\">exp</span><span class=\"p\">(</span><span class=\"n\">flog</span><span class=\"o\">.</span><span class=\"n\">lnorm</span><span class=\"p\">(</span><span class=\"n\">np</span><span class=\"o\">.</span><span class=\"n\">log</span><span class=\"p\">([</span><span class=\"mi\">2</span> <span class=\"mi\">6</span><span class=\"p\">])))</span> <span class=\"c1\"># [0.25 0.75]</span>\n",
       "</code></pre></div></span>"
      ]
     },
     "metadata": {},
     "output_type": "display_data"
    }
   ],
   "source": [
    "intro2_weights = np.array([wintro_no.value, wintro_yes.value])\n",
    "intro2_p = flog.norm(intro2_weights)\n",
    "intro2_n = intro2_weights.sum()\n",
    "mo.md(f\"\"\"\n",
    "here i introduce `fuz.log.lnorm` which can stably normalize weights in logarithmic space (log -> log), handling `nan`s and complex numbers. a little excessive for our example here, but works well with very small probabilities. if you want to move out of log space, a convenience function, `norm`, does log conversion and exponentiation for you.\n",
    "\n",
    "```python\n",
    "import fuz.log as flog\n",
    "import numpy as np\n",
    "\n",
    "flog.norm({intro2_weights}) # {intro2_p}\n",
    "# this is equivalent to:\n",
    "np.exp(flog.lnorm(np.log({intro2_weights}))) # {intro2_p}\n",
    "```\n",
    "\n",
    "\"\"\")"
   ]
  },
  {
   "cell_type": "code",
   "execution_count": null,
   "id": "Kclp",
   "metadata": {},
   "outputs": [
    {
     "data": {
      "text/html": [
       "<div style='display: flex;flex: 1;flex-direction: row;justify-content: space-between;align-items: normal;flex-wrap: nowrap;gap: 0.5rem'><div><marimo-ui-element object-id='Kclp-0' random-id='c241330b-01a9-e71f-de8a-774bcf36d58b'><marimo-vega data-initial-value='{}' data-label='null' data-spec='{&quot;config&quot;: {&quot;view&quot;: {&quot;continuousWidth&quot;: 300, &quot;continuousHeight&quot;: 300}}, &quot;layer&quot;: [{&quot;mark&quot;: {&quot;type&quot;: &quot;bar&quot;}, &quot;encoding&quot;: {&quot;x&quot;: {&quot;axis&quot;: {&quot;labelAngle&quot;: 0}, &quot;field&quot;: &quot;x&quot;, &quot;type&quot;: &quot;nominal&quot;}, &quot;y&quot;: {&quot;field&quot;: &quot;probability&quot;, &quot;scale&quot;: {&quot;domain&quot;: [0, 1]}, &quot;type&quot;: &quot;quantitative&quot;}}, &quot;title&quot;: &quot;bernoulli probability mass function (pmf)&quot;}, {&quot;mark&quot;: {&quot;type&quot;: &quot;text&quot;, &quot;dy&quot;: -10}, &quot;encoding&quot;: {&quot;text&quot;: {&quot;field&quot;: &quot;probability&quot;, &quot;format&quot;: &quot;.2f&quot;, &quot;type&quot;: &quot;quantitative&quot;}, &quot;x&quot;: {&quot;axis&quot;: {&quot;labelAngle&quot;: 0}, &quot;field&quot;: &quot;x&quot;, &quot;type&quot;: &quot;nominal&quot;}, &quot;y&quot;: {&quot;field&quot;: &quot;probability&quot;, &quot;scale&quot;: {&quot;domain&quot;: [0, 1]}, &quot;type&quot;: &quot;quantitative&quot;}}, &quot;title&quot;: &quot;bernoulli probability mass function (pmf)&quot;}], &quot;data&quot;: {&quot;url&quot;: &quot;./@file/71-80187-gXqHyfKH.csv&quot;, &quot;format&quot;: {&quot;type&quot;: &quot;csv&quot;}}, &quot;width&quot;: &quot;container&quot;, &quot;&#36;schema&quot;: &quot;https://vega.github.io/schema/vega-lite/v5.20.1.json&quot;}' data-chart-selection='true' data-field-selection='true'></marimo-vega></marimo-ui-element></div><div><marimo-ui-element object-id='Kclp-1' random-id='6c307511-b2b9-437a-28df-6ec4ce4a2bbd'><marimo-vega data-initial-value='{}' data-label='null' data-spec='{&quot;config&quot;: {&quot;view&quot;: {&quot;continuousWidth&quot;: 300, &quot;continuousHeight&quot;: 300}}, &quot;layer&quot;: [{&quot;mark&quot;: {&quot;type&quot;: &quot;line&quot;}, &quot;encoding&quot;: {&quot;x&quot;: {&quot;field&quot;: &quot;successes&quot;, &quot;type&quot;: &quot;quantitative&quot;}, &quot;y&quot;: {&quot;field&quot;: &quot;probability&quot;, &quot;type&quot;: &quot;quantitative&quot;}}, &quot;title&quot;: &quot;binomial pmf&quot;}, {&quot;mark&quot;: {&quot;type&quot;: &quot;point&quot;}, &quot;encoding&quot;: {&quot;x&quot;: {&quot;field&quot;: &quot;successes&quot;, &quot;type&quot;: &quot;quantitative&quot;}, &quot;y&quot;: {&quot;field&quot;: &quot;probability&quot;, &quot;type&quot;: &quot;quantitative&quot;}}, &quot;title&quot;: &quot;binomial pmf&quot;}], &quot;data&quot;: {&quot;url&quot;: &quot;./@file/313-80187-hjJfY478.csv&quot;, &quot;format&quot;: {&quot;type&quot;: &quot;csv&quot;}}, &quot;title&quot;: {&quot;text&quot;: &quot;binomial pmf&quot;, &quot;subtitle&quot;: &quot;n=8, heads=6, tails=2&quot;}, &quot;width&quot;: &quot;container&quot;, &quot;&#36;schema&quot;: &quot;https://vega.github.io/schema/vega-lite/v5.20.1.json&quot;}' data-chart-selection='true' data-field-selection='true'></marimo-vega></marimo-ui-element></div></div>"
      ]
     },
     "metadata": {},
     "output_type": "display_data"
    }
   ],
   "source": [
    "intronomial = binom(intro2_n, intro2_p[1])\n",
    "_noulli_chart = plot_bernoulli(intro2_p)\n",
    "_nomial_chart = plot_binomial(intronomial).properties(\n",
    "    title=alt.TitleParams(\n",
    "        text='binomial pmf',\n",
    "        subtitle=f'n={intro2_n}, heads={wintro_yes.value}, tails={wintro_no.value}',\n",
    "    )\n",
    ")\n",
    "mo.hstack([mo.ui.altair_chart(_noulli_chart), mo.ui.altair_chart(_nomial_chart)])"
   ]
  },
  {
   "cell_type": "code",
   "execution_count": null,
   "id": "emfo",
   "metadata": {},
   "outputs": [
    {
     "data": {
      "text/html": [
       "<span class=\"markdown prose dark:prose-invert\"><span class=\"paragraph\">this is how the binomial distribution is typically first taught. the pmf shows the probability of <marimo-tex class=\"arithmatex\">||(h||)</marimo-tex> successes, given <marimo-tex class=\"arithmatex\">||(n||)</marimo-tex> trials. however, for bayesian ranking, this isn't what we need. </span>\n",
       "<span class=\"paragraph\">what we really want is to quantify the uncertainty around possible true scores. i.e., given 6 heads and 2 tails, what's the probability that once we have <marimo-tex class=\"arithmatex\">||(\\infty||)</marimo-tex> ratings, the score will be <marimo-tex class=\"arithmatex\">||(x||)</marimo-tex>?</span>\n",
       "<span class=\"paragraph\">good news - we can still start with the binomial distribution!</span>\n",
       "<span class=\"paragraph\">we use the formula of the binomial pmf to hold <marimo-tex class=\"arithmatex\">||(k||)</marimo-tex> and <marimo-tex class=\"arithmatex\">||(n||)</marimo-tex> constant, sweeping <marimo-tex class=\"arithmatex\">||(x||)</marimo-tex> to get probabilities and creating a chart.</span></span>"
      ]
     },
     "metadata": {},
     "output_type": "display_data"
    }
   ],
   "source": [
    "mo.md(f\"\"\"\n",
    "this is how the binomial distribution is typically first taught. the pmf shows the probability of $h$ successes, given $n$ trials. however, for bayesian ranking, this isn't what we need. \n",
    "\n",
    "what we really want is to quantify the uncertainty around possible true scores. i.e., given {wintro_yes.value} heads and {wintro_no.value} tails, what's the probability that once we have $\\infty$ ratings, the score will be $x$?\n",
    "\n",
    "good news - we can still start with the binomial distribution!\n",
    "\n",
    "we use the formula of the binomial pmf to hold $k$ and $n$ constant, sweeping $x$ to get probabilities and creating a chart.\n",
    "\"\"\")"
   ]
  },
  {
   "cell_type": "markdown",
   "id": "Hstk",
   "metadata": {},
   "source": [
    "## binomial to beta"
   ]
  },
  {
   "cell_type": "code",
   "execution_count": null,
   "id": "nWHF",
   "metadata": {},
   "outputs": [
    {
     "data": {
      "text/html": [
       "<marimo-callout-output data-html='&quot;&lt;marimo-ui-element object-id=&#x27;nWHF-0&#x27; random-id=&#x27;972a8469-1641-9f82-8b9d-2434e465e150&#x27;&gt;&lt;marimo-slider data-initial-value=&#x27;5&#x27; data-label=&#x27;&amp;quot;&amp;lt;span class=&amp;#92;&amp;quot;markdown prose dark:prose-invert&amp;#92;&amp;quot;&amp;gt;&amp;lt;span class=&amp;#92;&amp;quot;paragraph&amp;#92;&amp;quot;&amp;gt;slide to sample!&amp;lt;/span&amp;gt;&amp;lt;/span&amp;gt;&amp;quot;&#x27; data-start=&#x27;5&#x27; data-stop=&#x27;50&#x27; data-steps=&#x27;[]&#x27; data-debounce=&#x27;false&#x27; data-orientation=&#x27;&amp;quot;horizontal&amp;quot;&#x27; data-show-value=&#x27;false&#x27; data-full-width=&#x27;true&#x27;&gt;&lt;/marimo-slider&gt;&lt;/marimo-ui-element&gt;&quot;' data-kind='&quot;danger&quot;'></marimo-callout-output>"
      ]
     },
     "metadata": {},
     "output_type": "display_data"
    }
   ],
   "source": [
    "w_xlen = mo.ui.slider(5, 50, value=5, full_width=True, label='slide to sample!')\n",
    "mo.callout(w_xlen, kind='danger')"
   ]
  },
  {
   "cell_type": "code",
   "execution_count": null,
   "id": "iLit",
   "metadata": {},
   "outputs": [],
   "source": [
    "x_interactive = np.linspace(0, 1, w_xlen.value)"
   ]
  },
  {
   "cell_type": "code",
   "execution_count": null,
   "id": "ZHCJ",
   "metadata": {},
   "outputs": [
    {
     "data": {
      "application/vnd.vegalite.v5+json": "{\n  \"$schema\": \"https://vega.github.io/schema/vega-lite/v5.20.1.json\",\n  \"config\": {\n    \"view\": {\n      \"continuousHeight\": 300,\n      \"continuousWidth\": 300\n    }\n  },\n  \"data\": {\n    \"name\": \"data-cc40283b79a4fe61a1bef762f09de42e\"\n  },\n  \"datasets\": {\n    \"data-cc40283b79a4fe61a1bef762f09de42e\": [\n      {\n        \"probability\": 0.0,\n        \"true mean\": 0.0\n      },\n      {\n        \"probability\": 0.003845214843750001,\n        \"true mean\": 0.25\n      },\n      {\n        \"probability\": 0.10937500000000004,\n        \"true mean\": 0.5\n      },\n      {\n        \"probability\": 0.31146240234375,\n        \"true mean\": 0.75\n      },\n      {\n        \"probability\": 0.0,\n        \"true mean\": 1.0\n      }\n    ]\n  },\n  \"layer\": [\n    {\n      \"encoding\": {\n        \"x\": {\n          \"field\": \"true mean\",\n          \"type\": \"quantitative\"\n        },\n        \"y\": {\n          \"field\": \"probability\",\n          \"type\": \"quantitative\"\n        }\n      },\n      \"mark\": {\n        \"color\": \"maroon\",\n        \"type\": \"line\"\n      },\n      \"title\": {\n        \"subtitle\": \"given 6 heads and 2 tails\",\n        \"text\": \"probability of potential true means\"\n      }\n    },\n    {\n      \"encoding\": {\n        \"x\": {\n          \"field\": \"true mean\",\n          \"type\": \"quantitative\"\n        },\n        \"y\": {\n          \"field\": \"probability\",\n          \"type\": \"quantitative\"\n        }\n      },\n      \"mark\": {\n        \"color\": \"maroon\",\n        \"type\": \"point\"\n      },\n      \"title\": {\n        \"subtitle\": \"given 6 heads and 2 tails\",\n        \"text\": \"probability of potential true means\"\n      }\n    }\n  ],\n  \"usermeta\": {\n    \"embedOptions\": {}\n  },\n  \"width\": 600\n}"
     },
     "metadata": {},
     "output_type": "display_data"
    }
   ],
   "source": [
    "_df = pl.DataFrame(\n",
    "    {\n",
    "        'true mean': x_interactive,\n",
    "        'probability': binom.pmf(wintro_yes.value, intro2_n, x_interactive),\n",
    "    }\n",
    ")\n",
    "_base = alt.Chart(\n",
    "    _df,\n",
    "    title=alt.TitleParams(\n",
    "        text='probability of potential true means',\n",
    "        subtitle=f'given {wintro_yes.value} heads and {wintro_no.value} tails',\n",
    "    ),\n",
    ").encode(alt.X('true mean'), alt.Y('probability'))\n",
    "_line = _base.mark_line(color='maroon')\n",
    "_point = _base.mark_point(color='maroon')\n",
    "_chart = _line + _point\n",
    "_chart.properties(width=600)"
   ]
  },
  {
   "cell_type": "markdown",
   "id": "ROlb",
   "metadata": {},
   "source": [
    "what do you notice here?\n",
    "\n",
    "1. this is not a probability distribution function (pdf) yet. to make it a pdf, we'll divide the probability by the integral to get the density.\n",
    "1. the mode (peak) is $p$.\n",
    "1. the mean of the possible true means is different from the mode.\n",
    "1. after turning this into a pdf, this is a beta distribution.\n",
    "\n",
    "let's turn this into a pdf and see which beta distributions might match. fortunately **fuz** allows you to make beta distributions in a variety of ways."
   ]
  },
  {
   "cell_type": "code",
   "execution_count": null,
   "id": "qnkX",
   "metadata": {},
   "outputs": [],
   "source": [
    "from scipy.integrate import quad\n",
    "import fuz.dists as fd"
   ]
  },
  {
   "cell_type": "code",
   "execution_count": null,
   "id": "TqIu",
   "metadata": {},
   "outputs": [],
   "source": [
    "x_small = np.linspace(0, 1, 257)"
   ]
  },
  {
   "cell_type": "code",
   "execution_count": null,
   "id": "Vxnm",
   "metadata": {},
   "outputs": [],
   "source": [
    "def plot_betas(x: np.ndarray, pdfs: Sequence[Callable], names: Sequence[str]) -> alt.Chart:\n",
    "    dfs = []\n",
    "    for pdf, name in zip(pdfs, names, strict=True):\n",
    "        bdf = pl.DataFrame({'x': x, 'pdf': pdf(x)}).with_columns(name=pl.lit(name))\n",
    "        dfs.append(bdf)\n",
    "    df = pl.concat(dfs)\n",
    "    base = alt.Chart(df, title=name).encode(\n",
    "        alt.X('x'), alt.Y('pdf'), alt.Color('name'), alt.StrokeDash('name')\n",
    "    )\n",
    "    return base.mark_line(opacity=0.5, strokeWidth=9)"
   ]
  },
  {
   "cell_type": "code",
   "execution_count": null,
   "id": "DnEU",
   "metadata": {},
   "outputs": [
    {
     "data": {
      "text/html": [
       "<marimo-ui-element object-id='DnEU-0' random-id='371ecd7b-27cd-8130-4722-9389571aa876'><marimo-vega data-initial-value='{}' data-label='null' data-spec='{&quot;config&quot;: {&quot;view&quot;: {&quot;continuousWidth&quot;: 300, &quot;continuousHeight&quot;: 300}}, &quot;layer&quot;: [{&quot;data&quot;: {&quot;url&quot;: &quot;./@file/11972-80187-rNGTzmxO.csv&quot;, &quot;format&quot;: {&quot;type&quot;: &quot;csv&quot;}}, &quot;mark&quot;: {&quot;type&quot;: &quot;line&quot;}, &quot;encoding&quot;: {&quot;color&quot;: {&quot;field&quot;: &quot;name&quot;, &quot;type&quot;: &quot;nominal&quot;}, &quot;strokeDash&quot;: {&quot;field&quot;: &quot;name&quot;, &quot;type&quot;: &quot;nominal&quot;}, &quot;x&quot;: {&quot;field&quot;: &quot;x&quot;, &quot;type&quot;: &quot;quantitative&quot;}, &quot;y&quot;: {&quot;field&quot;: &quot;pdf&quot;, &quot;type&quot;: &quot;quantitative&quot;}}, &quot;title&quot;: &quot;binomial-derived vs potential betas&quot;}, {&quot;data&quot;: {&quot;url&quot;: &quot;./@file/31185-80187-JHlI0ZA3.csv&quot;, &quot;format&quot;: {&quot;type&quot;: &quot;csv&quot;}}, &quot;mark&quot;: {&quot;type&quot;: &quot;line&quot;, &quot;opacity&quot;: 0.5, &quot;strokeWidth&quot;: 9}, &quot;encoding&quot;: {&quot;color&quot;: {&quot;field&quot;: &quot;name&quot;, &quot;type&quot;: &quot;nominal&quot;}, &quot;strokeDash&quot;: {&quot;field&quot;: &quot;name&quot;, &quot;type&quot;: &quot;nominal&quot;}, &quot;x&quot;: {&quot;field&quot;: &quot;x&quot;, &quot;type&quot;: &quot;quantitative&quot;}, &quot;y&quot;: {&quot;field&quot;: &quot;pdf&quot;, &quot;type&quot;: &quot;quantitative&quot;}}, &quot;title&quot;: &quot;&#92;u03b2 &#92;u03bc k&quot;}], &quot;width&quot;: &quot;container&quot;, &quot;&#36;schema&quot;: &quot;https://vega.github.io/schema/vega-lite/v5.20.1.json&quot;}' data-chart-selection='true' data-field-selection='true'></marimo-vega></marimo-ui-element>"
      ]
     },
     "metadata": {},
     "output_type": "display_data"
    }
   ],
   "source": [
    "pre_pdf = lambda x: binom.pmf(wintro_yes.value, intro2_n, x)\n",
    "bin_pdf = lambda x: pre_pdf(x) / quad(pre_pdf, 0, 1)[0]\n",
    "_bin_df = pl.DataFrame({'x': x_small, 'pdf': bin_pdf(x_small)}).with_columns(\n",
    "    name=pl.lit('binomial-derived')\n",
    ")\n",
    "_bin_fig = (\n",
    "    alt.Chart(_bin_df, title='binomial-derived vs potential betas')\n",
    "    .mark_line()\n",
    "    .encode(alt.X('x'), alt.Y('pdf'), alt.Color('name'), alt.StrokeDash('name'))\n",
    ")\n",
    "\n",
    "_mo = intro2_p[1]\n",
    "b_mo_t = fd.beta_from_mode_trials(_mo, intro2_n)\n",
    "b_mo_k1 = fd.beta_from_mode_k(_mo, intro2_n)\n",
    "b_mu_k1 = fd.beta_from_mu_k(_mo, intro2_n)\n",
    "_beta_fig = plot_betas(\n",
    "    x_small, (b_mo_t.pdf, b_mo_k1.pdf, b_mu_k1.pdf), ('β mode trials', 'β mode k', 'β μ k')\n",
    ")\n",
    "\n",
    "mo.ui.altair_chart(_bin_fig + _beta_fig)"
   ]
  },
  {
   "cell_type": "markdown",
   "id": "ulZA",
   "metadata": {},
   "source": [
    "from the chart, it's clear that the beta distribution parameterized by mode and number of trials matches the binomial-derived pdf.\n",
    "\n",
    "what are the implications? moving from bernoulli to binomial to beta is a well-known fundamental concept in statistics, so what's new here? let's set things up to understand."
   ]
  },
  {
   "cell_type": "markdown",
   "id": "ecfG",
   "metadata": {},
   "source": [
    "## setup\n",
    "\n",
    "first, for the purposes of this chapter, let's define:\n",
    "\n",
    "$$\n",
    "\\begin{aligned}\n",
    "\\mu_s &= \\text{sample mean} \\\\\n",
    "\\mu_\\top &= \\text{the true mean} \\\\\n",
    "\\mu_\\diamond &= \\text{a possible true mean} \\\\\n",
    "\\Mu &= \\text{the distribution of possible true means} \\\\\n",
    "\\mathrm{E}[M] = \\mu_\\Mu &= \\text{the mean of possible true means} \\\\\n",
    "\\hat{\\Mu} &= \\text{the mode of the possible true mean distribution} \\\\\n",
    "\\hat{\\Beta} &= \\text{the mode of a beta distribution} \\\\\n",
    "\\end{aligned}\n",
    "$$\n",
    "\n",
    "in addition, we use standard notation for the [beta distribution from wikipedia](https://en.wikipedia.org/wiki/Beta_distribution).\n",
    "\n",
    "here are some insights:\n",
    "\n",
    "1. the parameterization of the beta by mode and no. of trials $t$, where $t = k-2$, matches best.\n",
    "1. the mean of the beta $\\mu_B$ corresponds to the mean of possible true means $\\mu_\\Mu$"
   ]
  },
  {
   "cell_type": "markdown",
   "id": "Pvdt",
   "metadata": {},
   "source": [
    "## claims"
   ]
  },
  {
   "cell_type": "code",
   "execution_count": null,
   "id": "ZBYS",
   "metadata": {},
   "outputs": [
    {
     "data": {
      "text/html": [
       "<marimo-callout-output data-html='&quot;&lt;span class=&#92;&quot;markdown prose dark:prose-invert&#92;&quot;&gt;&lt;ol&gt;&#92;n&lt;li&gt;in a ranking context, taking &lt;marimo-tex class=&#92;&quot;arithmatex&#92;&quot;&gt;||(&#92;&#92;mu_&#92;&#92;Mu||)&lt;/marimo-tex&gt; is equivalent to finding the posterior, where the prior consists of the other items&#x27; possible true mean distributions &lt;marimo-tex class=&#92;&quot;arithmatex&#92;&quot;&gt;||(M_i||)&lt;/marimo-tex&gt;.&lt;/li&gt;&#92;n&lt;li&gt;this is extensible other rating systems like 3-star, 5-star, out-of-10, and even continuous (floating-point) systems, by using dirichlet distributions.&lt;/li&gt;&#92;n&lt;li&gt;given the same information, finding &lt;marimo-tex class=&#92;&quot;arithmatex&#92;&quot;&gt;||(&#92;&#92;mu_&#92;&#92;Mu||)&lt;/marimo-tex&gt; is optimal and outperforms other bayesian ranking algorithms &lt;sup id=&#92;&quot;fnref:2-same-level&#92;&quot;&gt;&lt;a class=&#92;&quot;footnote-ref&#92;&quot; href=&#92;&quot;#fn:2-same-level&#92;&quot;&gt;1&lt;/a&gt;&lt;/sup&gt;&lt;/li&gt;&#92;n&lt;/ol&gt;&#92;n&lt;div class=&#92;&quot;footnote&#92;&quot;&gt;&#92;n&lt;hr /&gt;&#92;n&lt;ol&gt;&#92;n&lt;li id=&#92;&quot;fn:2-same-level&#92;&quot;&gt;&#92;n&lt;span class=&#92;&quot;paragraph&#92;&quot;&gt;caveat being algorithms on the same level; i&#x27;m not comparing to complex recommender systems, although it could act as a basis for a better recommender system since incorporating weights is simple.&amp;#160;&lt;a class=&#92;&quot;footnote-backref&#92;&quot; href=&#92;&quot;#fnref:2-same-level&#92;&quot; title=&#92;&quot;Jump back to footnote 1 in the text&#92;&quot;&gt;&amp;#8617;&lt;/a&gt;&lt;/span&gt;&#92;n&lt;/li&gt;&#92;n&lt;/ol&gt;&#92;n&lt;/div&gt;&lt;/span&gt;&quot;' data-kind='&quot;warn&quot;'></marimo-callout-output>"
      ]
     },
     "metadata": {},
     "output_type": "display_data"
    }
   ],
   "source": [
    "mo.callout(\n",
    "    mo.md(\"\"\"\n",
    "\n",
    "1. in a ranking context, taking $\\mu_\\Mu$ is equivalent to finding the posterior, where the prior consists of the other items' possible true mean distributions $M_i$.\n",
    "1. this is extensible other rating systems like 3-star, 5-star, out-of-10, and even continuous (floating-point) systems, by using dirichlet distributions.\n",
    "1. given the same information, finding $\\mu_\\Mu$ is optimal and outperforms other bayesian ranking algorithms [^same-level]\n",
    "\n",
    "[^same-level]: caveat being algorithms on the same level; i'm not comparing to complex recommender systems, although it could act as a basis for a better recommender system since incorporating weights is simple.\n",
    "\"\"\"),\n",
    "    kind='warn',\n",
    ")"
   ]
  },
  {
   "cell_type": "markdown",
   "id": "aLJB",
   "metadata": {},
   "source": [
    "i will address these claims in the following chapters.\n",
    "\n",
    "i believe this is a novel angle to look at the problem of bayesian ranking, although i wouldn't be surprised if someone has done something similar before."
   ]
  },
  {
   "cell_type": "markdown",
   "id": "nHfw",
   "metadata": {},
   "source": [
    "## the mean of possible true means\n",
    "\n",
    "first, what's the best way to calculate $\\mu_\\Mu$? just a bit of algebra:\n",
    "\n",
    "$$\n",
    "\\begin{aligned}\n",
    "t &= k-2 \\\\\n",
    "k &= \\alpha + \\beta \\\\\n",
    "\\hat{\\Beta} &\\coloneqq \\mu_s\\\\\n",
    "\\hat{\\Beta} &= \\frac{\\alpha-1}{\\alpha+\\beta-2} = \\frac{\\alpha-1}{t} \\\\\n",
    "\\Mu &= \\Beta(\\alpha,\\beta) \\\\\n",
    "\\mu_\\Mu &= \\frac{\\alpha}{k} \\\\\n",
    "\\alpha &= k\\mu_\\Mu = t\\hat{\\Beta} + 1 \\\\\n",
    "\\mu_\\Mu &= \\frac{t \\mu_s + 1}{k} \\\\\n",
    "\\end{aligned}\n",
    "$$\n",
    "\n",
    "thus, to find $\\mu_\\Mu$ given number of ratings $t$ and mean $\\mu_s$:"
   ]
  },
  {
   "cell_type": "code",
   "execution_count": null,
   "id": "xXTn",
   "metadata": {},
   "outputs": [
    {
     "data": {
      "text/html": [
       "<marimo-callout-output data-html='&quot;&lt;span class=&#92;&quot;markdown prose dark:prose-invert&#92;&quot;&gt;&lt;marimo-tex class=&#92;&quot;arithmatex&#92;&quot;&gt;||[&#92;n&#92;&#92;mu_&#92;&#92;Mu = &#92;&#92;frac{t &#92;&#92;mu_s + 1}{t+2}&#92;n||]&lt;/marimo-tex&gt;&lt;/span&gt;&quot;' data-kind='&quot;success&quot;'></marimo-callout-output>"
      ]
     },
     "metadata": {},
     "output_type": "display_data"
    }
   ],
   "source": [
    "mo.callout(\n",
    "    mo.md(r\"\"\"\n",
    "$$\n",
    "\\mu_\\Mu = \\frac{t \\mu_s + 1}{t+2}\n",
    "$$\n",
    "\"\"\"),\n",
    "    kind='success',\n",
    ")"
   ]
  },
  {
   "cell_type": "markdown",
   "id": "AjVT",
   "metadata": {},
   "source": [
    "## code navigation"
   ]
  },
  {
   "cell_type": "markdown",
   "id": "pHFh",
   "metadata": {},
   "source": [
    "### widgets"
   ]
  },
  {
   "cell_type": "markdown",
   "id": "NCOB",
   "metadata": {},
   "source": [
    "#### initial parameters"
   ]
  },
  {
   "cell_type": "code",
   "execution_count": null,
   "id": "aqbW",
   "metadata": {},
   "outputs": [
    {
     "data": {
      "text/html": [
       "<span class=\"markdown prose dark:prose-invert\"><h2 id=\"code-navigation\">code navigation</h2></span>"
      ]
     },
     "metadata": {},
     "output_type": "display_data"
    }
   ],
   "source": [
    "w_n_items = mo.ui.slider(\n",
    "    steps=[5, 10, 50, 100, 500, 1000],\n",
    "    debounce=True,\n",
    "    label='no. of scored items',\n",
    "    full_width=True,\n",
    "    show_value=True,\n",
    "    value=10,\n",
    ")\n",
    "w_init_possible_means = mo.ui.range_slider(\n",
    "    0.01,\n",
    "    0.99,\n",
    "    0.01,\n",
    "    value=(0.05, 0.95),\n",
    "    debounce=True,\n",
    "    show_value=True,\n",
    "    label='possible mean scores',\n",
    "    full_width=True,\n",
    ")\n",
    "w_init_n_scores = mo.ui.range_slider(\n",
    "    2,\n",
    "    200,\n",
    "    1,\n",
    "    value=(3, 36),\n",
    "    debounce=True,\n",
    "    label='possible no. of scores',\n",
    "    full_width=True,\n",
    "    show_value=True,\n",
    ")\n",
    "w_xax_resolution = mo.ui.slider(\n",
    "    steps=[129, 257, 513, 1025, 2049, 4097, 8193],\n",
    "    debounce=True,\n",
    "    label='x axis resolution',\n",
    "    full_width=True,\n",
    "    show_value=True,\n",
    "    value=1025,\n",
    ")"
   ]
  },
  {
   "cell_type": "markdown",
   "id": "TRpd",
   "metadata": {},
   "source": [
    "### plotting"
   ]
  },
  {
   "cell_type": "code",
   "execution_count": null,
   "id": "TXez",
   "metadata": {},
   "outputs": [
    {
     "data": {
      "text/html": [
       "<span class=\"markdown prose dark:prose-invert\"><h4 id=\"initial-parameters\">initial parameters</h4></span>"
      ]
     },
     "metadata": {},
     "output_type": "display_data"
    }
   ],
   "source": [
    "def plot_bernoulli(p: Sequence[float, float] | np.ndarray) -> alt.Chart:\n",
    "    _df = pl.DataFrame({'x': ['negative', 'positive'], 'probability': p})\n",
    "    _base = alt.Chart(_df, title='bernoulli probability mass function (pmf)').encode(\n",
    "        alt.X('x', axis=alt.Axis(labelAngle=0)),\n",
    "        alt.Y('probability', scale=alt.Scale(domain=[0, 1])),\n",
    "    )\n",
    "    _bar = _base.mark_bar()\n",
    "    _text = _base.mark_text(dy=-10).encode(alt.Text('probability', format='.2f'))\n",
    "    return _bar + _text"
   ]
  },
  {
   "cell_type": "code",
   "execution_count": null,
   "id": "dNNg",
   "metadata": {},
   "outputs": [],
   "source": [
    "def plot_binomial(dist: rv_discrete_frozen, max_n: int = 20) -> alt.Chart:\n",
    "    x = np.arange(max_n + 1)\n",
    "    df = pl.DataFrame({'successes': x, 'probability': dist.pmf(x)})\n",
    "    base = alt.Chart(df, title='binomial pmf').encode(alt.X('successes'), alt.Y('probability'))\n",
    "    line = base.mark_line()\n",
    "    point = base.mark_point()\n",
    "    return line + point"
   ]
  },
  {
   "cell_type": "markdown",
   "id": "yCnT",
   "metadata": {},
   "source": [
    "### imports"
   ]
  },
  {
   "cell_type": "code",
   "execution_count": null,
   "id": "wlCL",
   "metadata": {},
   "outputs": [],
   "source": [
    "import marimo as mo\n",
    "import numpy as np\n",
    "import polars as pl\n",
    "import altair as alt\n",
    "import fuz.log as flog\n",
    "from scipy.stats._distn_infrastructure import rv_continuous_frozen, rv_discrete_frozen"
   ]
  },
  {
   "cell_type": "code",
   "execution_count": null,
   "id": "kqZH",
   "metadata": {},
   "outputs": [],
   "source": []
  }
 ],
 "metadata": {},
 "nbformat": 4,
 "nbformat_minor": 5
}
